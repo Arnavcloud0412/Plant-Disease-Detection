{
 "cells": [
  {
   "cell_type": "markdown",
   "id": "2168bc08-1a2e-457a-95e1-25be6a5b25be",
   "metadata": {},
   "source": [
    " ## **Importing Libraries**"
   ]
  },
  {
   "cell_type": "code",
   "execution_count": 23,
   "id": "da3256dd-58cf-485f-a1b2-ebaa5788505c",
   "metadata": {},
   "outputs": [],
   "source": [
    "import tensorflow as tf\n",
    "import matplotlib.pyplot as plt\n",
    "import pandas as pd\n",
    "import numpy as np\n",
    "import seaborn as sns"
   ]
  },
  {
   "cell_type": "markdown",
   "id": "8b1f4702-4a06-44c7-8906-b1b511e65117",
   "metadata": {},
   "source": [
    "## **Data Preprocessing**"
   ]
  },
  {
   "cell_type": "markdown",
   "id": "4c93c66e-9852-4b24-ba1b-496382f06957",
   "metadata": {},
   "source": [
    "### Traing Image Preprocessing"
   ]
  },
  {
   "cell_type": "code",
   "execution_count": 24,
   "id": "29bd41ca-3c1b-4687-990c-9878d69b01c2",
   "metadata": {},
   "outputs": [
    {
     "name": "stdout",
     "output_type": "stream",
     "text": [
      "Found 70295 files belonging to 38 classes.\n"
     ]
    }
   ],
   "source": [
    "training_set = tf.keras.utils.image_dataset_from_directory(\n",
    "    'train',\n",
    "    labels=\"inferred\",\n",
    "    label_mode=\"categorical\",\n",
    "    class_names=None,\n",
    "    color_mode=\"rgb\",\n",
    "    batch_size=32,\n",
    "    image_size=(128, 128),\n",
    "    shuffle=True,\n",
    "    seed=None,\n",
    "    validation_split=None,\n",
    "    subset=None,\n",
    "    interpolation=\"bilinear\",\n",
    "    follow_links=False,\n",
    "    crop_to_aspect_ratio=False\n",
    ")"
   ]
  },
  {
   "cell_type": "markdown",
   "id": "1cb3af9c-e3cd-4311-8de4-2a9bb413a63b",
   "metadata": {},
   "source": [
    "### Validation Image Preprocessing"
   ]
  },
  {
   "cell_type": "code",
   "execution_count": 25,
   "id": "f8d08cc0-9338-43e5-bc17-597d395a8057",
   "metadata": {},
   "outputs": [
    {
     "name": "stdout",
     "output_type": "stream",
     "text": [
      "Found 17572 files belonging to 38 classes.\n"
     ]
    }
   ],
   "source": [
    "validation_set = tf.keras.utils.image_dataset_from_directory(\n",
    "    'valid',\n",
    "    labels=\"inferred\",\n",
    "    label_mode=\"categorical\",\n",
    "    class_names=None,\n",
    "    color_mode=\"rgb\",\n",
    "    batch_size=32,\n",
    "    image_size=(128, 128),\n",
    "    shuffle=True,\n",
    "    seed=None,\n",
    "    validation_split=None,\n",
    "    subset=None,\n",
    "    interpolation=\"bilinear\",\n",
    "    follow_links=False,\n",
    "    crop_to_aspect_ratio=False\n",
    ")"
   ]
  },
  {
   "cell_type": "code",
   "execution_count": 26,
   "id": "cc740d3c-55dd-4306-b0b3-720bdcfa388e",
   "metadata": {},
   "outputs": [
    {
     "data": {
      "text/plain": [
       "<BatchDataset element_spec=(TensorSpec(shape=(None, 128, 128, 3), dtype=tf.float32, name=None), TensorSpec(shape=(None, 38), dtype=tf.float32, name=None))>"
      ]
     },
     "execution_count": 26,
     "metadata": {},
     "output_type": "execute_result"
    }
   ],
   "source": [
    "training_set"
   ]
  },
  {
   "cell_type": "code",
   "execution_count": 27,
   "id": "4c614f55-4a66-409e-ad4c-bee277a83c4b",
   "metadata": {},
   "outputs": [
    {
     "name": "stdout",
     "output_type": "stream",
     "text": [
      "tf.Tensor(\n",
      "[[[[180.   174.   178.  ]\n",
      "   [174.25 168.25 172.25]\n",
      "   [173.   167.   171.  ]\n",
      "   ...\n",
      "   [203.25 198.25 202.25]\n",
      "   [196.75 191.75 195.75]\n",
      "   [208.   203.   207.  ]]\n",
      "\n",
      "  [[163.   157.   161.  ]\n",
      "   [161.25 155.25 159.25]\n",
      "   [158.75 152.75 156.75]\n",
      "   ...\n",
      "   [195.25 190.25 194.25]\n",
      "   [200.5  195.5  199.5 ]\n",
      "   [206.25 201.25 205.25]]\n",
      "\n",
      "  [[158.   152.   156.  ]\n",
      "   [166.75 160.75 164.75]\n",
      "   [171.   165.   169.  ]\n",
      "   ...\n",
      "   [197.5  192.5  196.5 ]\n",
      "   [194.75 189.75 193.75]\n",
      "   [204.   199.   203.  ]]\n",
      "\n",
      "  ...\n",
      "\n",
      "  [[ 80.25  71.25  76.25]\n",
      "   [ 91.25  82.25  87.25]\n",
      "   [ 92.25  83.25  88.25]\n",
      "   ...\n",
      "   [137.5  130.5  138.5 ]\n",
      "   [142.5  135.5  143.5 ]\n",
      "   [122.   115.   123.  ]]\n",
      "\n",
      "  [[ 84.    75.    80.  ]\n",
      "   [ 84.    75.    80.  ]\n",
      "   [ 87.25  78.25  83.25]\n",
      "   ...\n",
      "   [119.25 112.25 120.25]\n",
      "   [139.5  132.5  140.5 ]\n",
      "   [149.   142.   150.  ]]\n",
      "\n",
      "  [[ 86.25  77.25  82.25]\n",
      "   [ 82.25  73.25  78.25]\n",
      "   [ 83.75  74.75  79.75]\n",
      "   ...\n",
      "   [127.   120.   128.  ]\n",
      "   [125.25 118.25 126.25]\n",
      "   [113.25 106.25 114.25]]]\n",
      "\n",
      "\n",
      " [[[149.   138.   144.  ]\n",
      "   [157.25 146.25 152.25]\n",
      "   [141.75 130.75 136.75]\n",
      "   ...\n",
      "   [120.   108.   112.  ]\n",
      "   [152.25 140.25 144.25]\n",
      "   [138.   126.   130.  ]]\n",
      "\n",
      "  [[137.   126.   132.  ]\n",
      "   [145.75 134.75 140.75]\n",
      "   [172.   161.   167.  ]\n",
      "   ...\n",
      "   [121.   109.   113.  ]\n",
      "   [138.25 126.25 130.25]\n",
      "   [152.5  140.5  144.5 ]]\n",
      "\n",
      "  [[142.75 131.75 137.75]\n",
      "   [147.   136.   142.  ]\n",
      "   [149.25 138.25 144.25]\n",
      "   ...\n",
      "   [131.5  116.5  121.5 ]\n",
      "   [153.75 138.75 143.75]\n",
      "   [142.25 127.25 132.25]]\n",
      "\n",
      "  ...\n",
      "\n",
      "  [[166.   151.   158.  ]\n",
      "   [166.5  151.5  158.5 ]\n",
      "   [172.25 157.25 164.25]\n",
      "   ...\n",
      "   [160.75 141.75 147.75]\n",
      "   [161.25 142.25 148.25]\n",
      "   [160.75 141.75 147.75]]\n",
      "\n",
      "  [[165.75 150.75 157.75]\n",
      "   [165.5  150.5  157.5 ]\n",
      "   [172.   157.   164.  ]\n",
      "   ...\n",
      "   [155.25 136.25 142.25]\n",
      "   [156.25 137.25 143.25]\n",
      "   [158.25 139.25 145.25]]\n",
      "\n",
      "  [[165.5  150.5  157.5 ]\n",
      "   [163.   148.   155.  ]\n",
      "   [168.25 153.25 160.25]\n",
      "   ...\n",
      "   [152.   133.   139.  ]\n",
      "   [154.   135.   141.  ]\n",
      "   [157.5  138.5  144.5 ]]]\n",
      "\n",
      "\n",
      " [[[ 96.5   89.5   88.  ]\n",
      "   [186.5  178.5  175.5 ]\n",
      "   [185.   177.   174.  ]\n",
      "   ...\n",
      "   [172.5  164.5  161.5 ]\n",
      "   [174.   166.   163.  ]\n",
      "   [178.   170.   167.  ]]\n",
      "\n",
      "  [[ 97.    90.    88.5 ]\n",
      "   [187.   179.   176.  ]\n",
      "   [185.5  177.5  174.5 ]\n",
      "   ...\n",
      "   [176.5  168.5  165.5 ]\n",
      "   [179.25 171.25 168.25]\n",
      "   [179.25 171.25 168.25]]\n",
      "\n",
      "  [[ 97.5   90.5   89.  ]\n",
      "   [187.5  179.5  176.5 ]\n",
      "   [186.25 178.25 175.25]\n",
      "   ...\n",
      "   [177.   169.   166.  ]\n",
      "   [168.75 160.75 157.75]\n",
      "   [179.25 171.25 168.25]]\n",
      "\n",
      "  ...\n",
      "\n",
      "  [[ 98.    89.25  86.5 ]\n",
      "   [178.75 169.75 164.75]\n",
      "   [179.   170.   165.  ]\n",
      "   ...\n",
      "   [162.   153.   146.  ]\n",
      "   [164.25 155.25 148.25]\n",
      "   [164.75 155.75 148.75]]\n",
      "\n",
      "  [[ 98.    89.25  86.5 ]\n",
      "   [178.75 169.75 164.75]\n",
      "   [179.   170.   165.  ]\n",
      "   ...\n",
      "   [166.5  157.5  150.5 ]\n",
      "   [170.5  161.5  154.5 ]\n",
      "   [165.25 156.25 149.25]]\n",
      "\n",
      "  [[ 95.5   87.5   85.  ]\n",
      "   [179.75 170.75 165.75]\n",
      "   [181.5  172.5  167.5 ]\n",
      "   ...\n",
      "   [168.   159.   152.  ]\n",
      "   [167.   158.   151.  ]\n",
      "   [169.25 160.25 153.25]]]\n",
      "\n",
      "\n",
      " ...\n",
      "\n",
      "\n",
      " [[[ 92.75  83.5   82.  ]\n",
      "   [101.75  92.5   91.  ]\n",
      "   [101.25  92.75  91.75]\n",
      "   ...\n",
      "   [ 91.    83.    80.5 ]\n",
      "   [ 91.75  83.25  80.  ]\n",
      "   [ 87.25  78.75  75.25]]\n",
      "\n",
      "  [[179.   169.   167.  ]\n",
      "   [174.75 164.75 162.75]\n",
      "   [183.25 173.25 171.25]\n",
      "   ...\n",
      "   [169.75 160.75 155.75]\n",
      "   [178.5  169.5  164.5 ]\n",
      "   [172.75 163.75 158.75]]\n",
      "\n",
      "  [[183.   173.   171.  ]\n",
      "   [174.5  164.5  162.5 ]\n",
      "   [186.75 176.75 174.75]\n",
      "   ...\n",
      "   [172.5  163.5  158.5 ]\n",
      "   [179.5  170.5  165.5 ]\n",
      "   [182.75 173.75 168.75]]\n",
      "\n",
      "  ...\n",
      "\n",
      "  [[192.25 183.25 178.25]\n",
      "   [190.25 181.25 176.25]\n",
      "   [192.5  183.5  178.5 ]\n",
      "   ...\n",
      "   [188.   177.   171.  ]\n",
      "   [190.75 179.75 173.75]\n",
      "   [188.25 177.25 171.25]]\n",
      "\n",
      "  [[189.5  180.5  175.5 ]\n",
      "   [193.   184.   179.  ]\n",
      "   [195.25 186.25 181.25]\n",
      "   ...\n",
      "   [186.25 175.25 169.25]\n",
      "   [189.   178.   172.  ]\n",
      "   [188.   177.   171.  ]]\n",
      "\n",
      "  [[191.25 182.25 177.25]\n",
      "   [191.   182.   177.  ]\n",
      "   [193.25 184.25 179.25]\n",
      "   ...\n",
      "   [186.5  175.5  169.5 ]\n",
      "   [187.   176.   170.  ]\n",
      "   [186.   175.   169.  ]]]\n",
      "\n",
      "\n",
      " [[[158.25 148.25 147.25]\n",
      "   [155.25 145.25 144.25]\n",
      "   [152.   142.   141.  ]\n",
      "   ...\n",
      "   [148.5  136.5  140.5 ]\n",
      "   [162.25 150.25 154.25]\n",
      "   [152.   140.   144.  ]]\n",
      "\n",
      "  [[160.25 150.25 149.25]\n",
      "   [172.25 162.25 161.25]\n",
      "   [136.75 126.75 125.75]\n",
      "   ...\n",
      "   [166.25 154.25 158.25]\n",
      "   [152.   140.   144.  ]\n",
      "   [150.25 138.25 142.25]]\n",
      "\n",
      "  [[156.   146.   145.  ]\n",
      "   [137.   127.   126.  ]\n",
      "   [148.75 138.75 137.75]\n",
      "   ...\n",
      "   [157.   145.   149.  ]\n",
      "   [148.25 136.25 140.25]\n",
      "   [150.   138.   142.  ]]\n",
      "\n",
      "  ...\n",
      "\n",
      "  [[183.5  178.5  185.5 ]\n",
      "   [183.5  178.5  185.5 ]\n",
      "   [180.5  175.5  182.5 ]\n",
      "   ...\n",
      "   [159.5  154.5  161.5 ]\n",
      "   [158.   153.   160.  ]\n",
      "   [159.25 154.25 161.25]]\n",
      "\n",
      "  [[185.   180.   187.  ]\n",
      "   [186.   181.   188.  ]\n",
      "   [184.75 179.75 186.75]\n",
      "   ...\n",
      "   [154.25 149.25 156.25]\n",
      "   [154.5  149.5  156.5 ]\n",
      "   [158.75 153.75 160.75]]\n",
      "\n",
      "  [[181.   176.   183.  ]\n",
      "   [180.25 175.25 182.25]\n",
      "   [176.75 171.75 178.75]\n",
      "   ...\n",
      "   [154.25 149.25 156.25]\n",
      "   [153.75 148.75 155.75]\n",
      "   [159.   154.   161.  ]]]\n",
      "\n",
      "\n",
      " [[[107.5  103.5  126.5 ]\n",
      "   [112.5  108.5  131.5 ]\n",
      "   [120.5  116.5  139.5 ]\n",
      "   ...\n",
      "   [125.75 125.75 149.75]\n",
      "   [133.25 133.25 157.25]\n",
      "   [141.75 141.75 165.75]]\n",
      "\n",
      "  [[110.5  106.5  129.5 ]\n",
      "   [110.5  106.5  129.5 ]\n",
      "   [121.75 117.75 140.75]\n",
      "   ...\n",
      "   [126.25 126.25 150.25]\n",
      "   [122.5  122.5  146.5 ]\n",
      "   [140.25 140.25 164.25]]\n",
      "\n",
      "  [[103.5   99.5  122.5 ]\n",
      "   [116.   112.   135.  ]\n",
      "   [117.75 113.75 136.75]\n",
      "   ...\n",
      "   [140.5  140.5  164.5 ]\n",
      "   [143.   143.   167.  ]\n",
      "   [151.   151.   175.  ]]\n",
      "\n",
      "  ...\n",
      "\n",
      "  [[101.5  102.5  132.5 ]\n",
      "   [111.   112.   142.  ]\n",
      "   [114.   115.   145.  ]\n",
      "   ...\n",
      "   [175.   179.   206.  ]\n",
      "   [176.5  180.5  207.5 ]\n",
      "   [180.75 184.75 211.75]]\n",
      "\n",
      "  [[106.   107.   137.  ]\n",
      "   [111.75 112.75 142.75]\n",
      "   [101.   102.   132.  ]\n",
      "   ...\n",
      "   [172.   176.   203.  ]\n",
      "   [179.75 183.75 210.75]\n",
      "   [186.25 190.25 217.25]]\n",
      "\n",
      "  [[102.75 103.75 133.75]\n",
      "   [103.75 104.75 134.75]\n",
      "   [106.5  107.5  137.5 ]\n",
      "   ...\n",
      "   [169.25 173.25 200.25]\n",
      "   [177.75 181.75 208.75]\n",
      "   [179.5  183.5  210.5 ]]]], shape=(32, 128, 128, 3), dtype=float32) (32, 128, 128, 3)\n",
      "tf.Tensor(\n",
      "[[0. 0. 0. ... 0. 0. 0.]\n",
      " [0. 0. 0. ... 0. 0. 0.]\n",
      " [0. 0. 0. ... 0. 0. 0.]\n",
      " ...\n",
      " [0. 0. 0. ... 0. 0. 0.]\n",
      " [0. 0. 0. ... 0. 0. 0.]\n",
      " [0. 0. 0. ... 0. 0. 0.]], shape=(32, 38), dtype=float32) (32, 38)\n"
     ]
    }
   ],
   "source": [
    "for x,y in training_set:\n",
    "    print(x,x.shape)\n",
    "    print(y,y.shape)\n",
    "    break"
   ]
  },
  {
   "cell_type": "markdown",
   "id": "d1681c49-410e-416d-8a65-2e387ef5353a",
   "metadata": {},
   "source": [
    "## **Building Model**"
   ]
  },
  {
   "cell_type": "code",
   "execution_count": 28,
   "id": "fed53634-6edc-44aa-a0eb-c2fcaa0cf8f0",
   "metadata": {},
   "outputs": [],
   "source": [
    "from tensorflow.keras.layers import Dense, Conv2D, MaxPool2D, Flatten\n",
    "from tensorflow.keras.models import Sequential"
   ]
  },
  {
   "cell_type": "code",
   "execution_count": 29,
   "id": "6c9a1274-192e-4903-8871-def18beb4d89",
   "metadata": {},
   "outputs": [],
   "source": [
    "model = Sequential()"
   ]
  },
  {
   "cell_type": "markdown",
   "id": "105646b8-6d35-4b46-829e-516c4d852664",
   "metadata": {},
   "source": [
    "## Building Convolution Layer"
   ]
  },
  {
   "cell_type": "code",
   "execution_count": 30,
   "id": "5c6841b3-0e93-49f0-a8a4-13f513f5b53a",
   "metadata": {},
   "outputs": [],
   "source": [
    "model.add(Conv2D(filters=32, kernel_size=3, padding='same', activation='relu', input_shape=[128,128,3]))\n",
    "model.add(Conv2D(filters=32, kernel_size=3, padding='same', activation='relu'))\n",
    "model.add(MaxPool2D(pool_size=2, strides=2))"
   ]
  },
  {
   "cell_type": "code",
   "execution_count": 31,
   "id": "147e2f2e-389c-417a-aae3-8e334e36b378",
   "metadata": {},
   "outputs": [],
   "source": [
    "model.add(Conv2D(filters=64, kernel_size=3, padding='same', activation='relu', input_shape=[128,128,3]))\n",
    "model.add(Conv2D(filters=64, kernel_size=3, padding='same', activation='relu'))\n",
    "model.add(MaxPool2D(pool_size=2, strides=2))"
   ]
  },
  {
   "cell_type": "code",
   "execution_count": 32,
   "id": "c9725fd7-09d3-4b69-991b-a3203294cdd1",
   "metadata": {},
   "outputs": [],
   "source": [
    "model.add(Conv2D(filters=128, kernel_size=3, padding='same', activation='relu', input_shape=[128,128,3]))\n",
    "model.add(Conv2D(filters=128, kernel_size=3, padding='same', activation='relu'))\n",
    "model.add(MaxPool2D(pool_size=2, strides=2))"
   ]
  },
  {
   "cell_type": "code",
   "execution_count": 33,
   "id": "643594c8-6184-4053-aad8-25ffba3cbf19",
   "metadata": {},
   "outputs": [],
   "source": [
    "model.add(Conv2D(filters=256, kernel_size=3, padding='same', activation='relu', input_shape=[128,128,3]))\n",
    "model.add(Conv2D(filters=256, kernel_size=3, padding='same', activation='relu'))\n",
    "model.add(MaxPool2D(pool_size=2, strides=2))"
   ]
  },
  {
   "cell_type": "markdown",
   "id": "c9e65de5-84c8-46af-815c-cf89f75e0649",
   "metadata": {},
   "source": [
    "### Flatening"
   ]
  },
  {
   "cell_type": "code",
   "execution_count": 34,
   "id": "adf4850b-9285-4f71-a91d-1168935dc160",
   "metadata": {},
   "outputs": [],
   "source": [
    "model.add(Flatten())"
   ]
  },
  {
   "cell_type": "code",
   "execution_count": 35,
   "id": "f1b51f4a-8ba5-4d5d-ac65-a41ebaba3693",
   "metadata": {},
   "outputs": [],
   "source": [
    "model.add(Dense(units=1024, activation='relu'))"
   ]
  },
  {
   "cell_type": "code",
   "execution_count": 36,
   "id": "4e825ad4-f527-44e5-b11e-d025b11d4fe3",
   "metadata": {},
   "outputs": [],
   "source": [
    "#Output Layer\n",
    "model.add(Dense(units=38, activation='softmax'))"
   ]
  },
  {
   "cell_type": "markdown",
   "id": "01c77a57-333f-4c0b-b966-c4be1e0cbf1e",
   "metadata": {},
   "source": [
    "## Compiling Model"
   ]
  },
  {
   "cell_type": "code",
   "execution_count": 37,
   "id": "345b1bf6-ae8c-4c85-897b-ac2aabb73b39",
   "metadata": {},
   "outputs": [],
   "source": [
    "model.compile(optimizer='adam', loss='categorical_crossentropy', metrics=['accuracy'])"
   ]
  },
  {
   "cell_type": "code",
   "execution_count": 38,
   "id": "62a03c63-13b6-4f14-a065-707fb8be93d4",
   "metadata": {},
   "outputs": [
    {
     "name": "stdout",
     "output_type": "stream",
     "text": [
      "Model: \"sequential_1\"\n",
      "_________________________________________________________________\n",
      " Layer (type)                Output Shape              Param #   \n",
      "=================================================================\n",
      " conv2d_8 (Conv2D)           (None, 128, 128, 32)      896       \n",
      "                                                                 \n",
      " conv2d_9 (Conv2D)           (None, 128, 128, 32)      9248      \n",
      "                                                                 \n",
      " max_pooling2d_4 (MaxPooling  (None, 64, 64, 32)       0         \n",
      " 2D)                                                             \n",
      "                                                                 \n",
      " conv2d_10 (Conv2D)          (None, 64, 64, 64)        18496     \n",
      "                                                                 \n",
      " conv2d_11 (Conv2D)          (None, 64, 64, 64)        36928     \n",
      "                                                                 \n",
      " max_pooling2d_5 (MaxPooling  (None, 32, 32, 64)       0         \n",
      " 2D)                                                             \n",
      "                                                                 \n",
      " conv2d_12 (Conv2D)          (None, 32, 32, 128)       73856     \n",
      "                                                                 \n",
      " conv2d_13 (Conv2D)          (None, 32, 32, 128)       147584    \n",
      "                                                                 \n",
      " max_pooling2d_6 (MaxPooling  (None, 16, 16, 128)      0         \n",
      " 2D)                                                             \n",
      "                                                                 \n",
      " conv2d_14 (Conv2D)          (None, 16, 16, 256)       295168    \n",
      "                                                                 \n",
      " conv2d_15 (Conv2D)          (None, 16, 16, 256)       590080    \n",
      "                                                                 \n",
      " max_pooling2d_7 (MaxPooling  (None, 8, 8, 256)        0         \n",
      " 2D)                                                             \n",
      "                                                                 \n",
      " flatten_1 (Flatten)         (None, 16384)             0         \n",
      "                                                                 \n",
      " dense_2 (Dense)             (None, 1024)              16778240  \n",
      "                                                                 \n",
      " dense_3 (Dense)             (None, 38)                38950     \n",
      "                                                                 \n",
      "=================================================================\n",
      "Total params: 17,989,446\n",
      "Trainable params: 17,989,446\n",
      "Non-trainable params: 0\n",
      "_________________________________________________________________\n"
     ]
    }
   ],
   "source": [
    "model.summary()"
   ]
  },
  {
   "cell_type": "markdown",
   "id": "525a01d8-4221-4b1a-ac39-dff9de2221d4",
   "metadata": {},
   "source": [
    "## Model Training"
   ]
  },
  {
   "cell_type": "code",
   "execution_count": 39,
   "id": "f7a0859a-949f-454d-8040-5aa0c7bdd22d",
   "metadata": {},
   "outputs": [
    {
     "name": "stdout",
     "output_type": "stream",
     "text": [
      "Epoch 1/10\n",
      "2197/2197 [==============================] - 157s 71ms/step - loss: 1.2117 - accuracy: 0.6413 - val_loss: 0.4937 - val_accuracy: 0.8399\n",
      "Epoch 2/10\n",
      "2197/2197 [==============================] - 141s 64ms/step - loss: 0.3823 - accuracy: 0.8753 - val_loss: 0.3728 - val_accuracy: 0.8825\n",
      "Epoch 3/10\n",
      "2197/2197 [==============================] - 155s 71ms/step - loss: 0.2571 - accuracy: 0.9143 - val_loss: 0.3126 - val_accuracy: 0.9009\n",
      "Epoch 4/10\n",
      "2197/2197 [==============================] - 156s 71ms/step - loss: 0.2014 - accuracy: 0.9332 - val_loss: 0.3060 - val_accuracy: 0.9084\n",
      "Epoch 5/10\n",
      "2197/2197 [==============================] - 154s 70ms/step - loss: 0.1726 - accuracy: 0.9427 - val_loss: 0.3640 - val_accuracy: 0.8898\n",
      "Epoch 6/10\n",
      "2197/2197 [==============================] - 146s 66ms/step - loss: 0.1565 - accuracy: 0.9488 - val_loss: 0.3036 - val_accuracy: 0.9130\n",
      "Epoch 7/10\n",
      "2197/2197 [==============================] - 152s 69ms/step - loss: 0.1501 - accuracy: 0.9508 - val_loss: 0.3343 - val_accuracy: 0.9052\n",
      "Epoch 8/10\n",
      "2197/2197 [==============================] - 157s 71ms/step - loss: 0.1356 - accuracy: 0.9560 - val_loss: 0.3100 - val_accuracy: 0.9162\n",
      "Epoch 9/10\n",
      "2197/2197 [==============================] - 150s 68ms/step - loss: 0.1194 - accuracy: 0.9616 - val_loss: 0.2705 - val_accuracy: 0.9269\n",
      "Epoch 10/10\n",
      "2197/2197 [==============================] - 147s 67ms/step - loss: 0.1242 - accuracy: 0.9599 - val_loss: 0.3043 - val_accuracy: 0.9237\n"
     ]
    }
   ],
   "source": [
    "training_history = model.fit(training_set, validation_data=validation_set, epochs=10)"
   ]
  },
  {
   "cell_type": "code",
   "execution_count": 40,
   "id": "c5a254f5-84c2-455a-ab0c-d002ab601844",
   "metadata": {},
   "outputs": [
    {
     "data": {
      "image/png": "[encoded data removed]",
      "text/plain": [
       "<Figure size 640x480 with 1 Axes>"
      ]
     },
     "metadata": {},
     "output_type": "display_data"
    },
    {
     "data": {
      "image/png": "[encoded data removed]",
      "text/plain": [
       "<Figure size 640x480 with 1 Axes>"
      ]
     },
     "metadata": {},
     "output_type": "display_data"
    }
   ],
   "source": [
    "import matplotlib.pyplot as plt\n",
    "\n",
    "# Extract data\n",
    "history = training_history.history\n",
    "epochs = range(1, 11)\n",
    "\n",
    "# Plot Accuracy\n",
    "plt.plot(epochs, history['accuracy'], label=\"Training Accuracy\")\n",
    "plt.plot(epochs, history['val_accuracy'], label=\"Validation Accuracy\")\n",
    "plt.xlabel('Epochs')\n",
    "plt.ylabel('Accuracy')\n",
    "plt.legend()\n",
    "plt.show()\n",
    "\n",
    "# Plot Loss\n",
    "plt.plot(epochs, history['loss'], label=\"Training Loss\")\n",
    "plt.plot(epochs, history['val_loss'], label=\"Validation Loss\")\n",
    "plt.xlabel('Epochs')\n",
    "plt.ylabel('Loss')\n",
    "plt.legend()\n",
    "plt.show()\n"
   ]
  },
  {
   "cell_type": "code",
   "execution_count": null,
   "id": "068917b7-9ef2-44b2-b704-e2ace58a8fd1",
   "metadata": {},
   "outputs": [],
   "source": []
  }
 ],
 "metadata": {
  "kernelspec": {
   "display_name": "Python (venv)",
   "language": "python",
   "name": "venv"
  },
  "language_info": {
   "codemirror_mode": {
    "name": "ipython",
    "version": 3
   },
   "file_extension": ".py",
   "mimetype": "text/x-python",
   "name": "python",
   "nbconvert_exporter": "python",
   "pygments_lexer": "ipython3",
   "version": "3.9.18"
  }
 },
 "nbformat": 4,
 "nbformat_minor": 5
}
